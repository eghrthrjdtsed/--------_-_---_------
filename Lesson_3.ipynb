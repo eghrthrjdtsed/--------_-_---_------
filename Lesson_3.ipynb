{
 "cells": [
  {
   "cell_type": "markdown",
   "id": "de6d0a9d",
   "metadata": {},
   "source": [
    "![дз3](дз3.png)"
   ]
  },
  {
   "cell_type": "code",
   "execution_count": 1,
   "id": "211d0680",
   "metadata": {},
   "outputs": [],
   "source": [
    "import sympy as sp"
   ]
  },
  {
   "cell_type": "code",
   "execution_count": 2,
   "id": "151900e7",
   "metadata": {},
   "outputs": [
    {
     "name": "stdout",
     "output_type": "stream",
     "text": [
      "Задача 1a - Предел для четных n: oo, Предел для нечетных n: 0\n",
      "Задача 1b - Неограниченность для четных n: True, Неограниченность для нечетных n: False\n"
     ]
    }
   ],
   "source": [
    "# Задача 1\n",
    "n = sp.symbols('n', integer=True)\n",
    "x_n = n**((-1)**n)\n",
    "x_even = x_n.subs(n, 2*n)\n",
    "x_odd = x_n.subs(n, 2*n + 1)\n",
    "limit_even = sp.limit(x_even, n, sp.oo)\n",
    "limit_odd = sp.limit(x_odd, n, sp.oo)\n",
    "is_unbounded_even = sp.oo in [limit_even]\n",
    "is_unbounded_odd = sp.oo in [limit_odd]\n",
    "\n",
    "print(f\"Задача 1a - Предел для четных n: {limit_even}, Предел для нечетных n: {limit_odd}\")\n",
    "print(f\"Задача 1b - Неограниченность для четных n: {is_unbounded_even}, Неограниченность для нечетных n: {is_unbounded_odd}\")"
   ]
  },
  {
   "cell_type": "markdown",
   "id": "640bcc28",
   "metadata": {},
   "source": [
    "Последовательность \n",
    "sin\n",
    "⁡\n",
    "𝑛\n",
    "sinn действительно осциллирует и не имеет предела. Это следует из того, что \n",
    "sin\n",
    "⁡\n",
    "𝑛\n",
    "sinn принимает значения на отрезке \n",
    "[\n",
    "−\n",
    "1\n",
    ",\n",
    "1\n",
    "]\n",
    "[−1,1], но не стабилизируется на каком-либо значении при \n",
    "𝑛\n",
    "→\n",
    "∞\n",
    "n→∞.\n",
    "\n",
    "Доказательство расходимости последовательности \n",
    "sin\n",
    "⁡\n",
    "𝑛\n",
    "sinn:\n",
    "Осцилляция:\n",
    "Значения функции \n",
    "sin\n",
    "⁡\n",
    "𝑛\n",
    "sinn периодически изменяются, так как аргумент \n",
    "𝑛\n",
    "n пробегает через множество целых чисел. Таким образом, последовательность \n",
    "sin\n",
    "⁡\n",
    "𝑛\n",
    "sinn не может иметь один определённый предел.\n",
    "\n",
    "Свойство предела подпоследовательностей:\n",
    "Если последовательность имеет предел, то все её подпоследовательности сходятся к тому же пределу. Рассмотрим подпоследовательности:\n",
    "\n",
    "sin\n",
    "⁡\n",
    "(\n",
    "𝑛\n",
    "+\n",
    "2\n",
    "𝜋\n",
    "𝑘\n",
    ")\n",
    "sin(n+2πk), где \n",
    "𝑘\n",
    "∈\n",
    "𝑍\n",
    "k∈Z\n",
    "Для различных \n",
    "𝑘\n",
    "k, значения будут периодически различаться, так как \n",
    "sin\n",
    "⁡\n",
    "sin функция периодическая."
   ]
  },
  {
   "cell_type": "code",
   "execution_count": 3,
   "id": "2c3b52a6",
   "metadata": {},
   "outputs": [
    {
     "name": "stdout",
     "output_type": "stream",
     "text": [
      "Задача 2 - Последовательность sin(n) является осциллирующей и не имеет предела.\n"
     ]
    }
   ],
   "source": [
    "# Задача 2\n",
    "sin_n = sp.sin(n)\n",
    "# Мы можем использовать осциллирующий характер sin(n) для доказательства расходимости\n",
    "print(f\"Задача 2 - Последовательность {sin_n} является осциллирующей и не имеет предела.\")"
   ]
  },
  {
   "cell_type": "code",
   "execution_count": 5,
   "id": "c41595cc",
   "metadata": {},
   "outputs": [
    {
     "name": "stdout",
     "output_type": "stream",
     "text": [
      "Задача 3a - Предел: 0\n",
      "Задача 3b - Предел: oo\n",
      "Задача 3c - Предел: 5\n"
     ]
    }
   ],
   "source": [
    "# Задача 3\n",
    "expr_a = (10*n + 1) / (n**2 + 1)\n",
    "limit_a = sp.limit(expr_a, n, sp.oo)\n",
    "expr_b = (n**2 - n) / sp.sqrt(n)\n",
    "limit_b = sp.limit(expr_b, n, sp.oo)\n",
    "expr_c = (5 * 3**n) / (3**n - 2)\n",
    "limit_c = sp.limit(expr_c, n, sp.oo)\n",
    "\n",
    "print(f\"Задача 3a - Предел: {limit_a}\")\n",
    "print(f\"Задача 3b - Предел: {limit_b}\")\n",
    "print(f\"Задача 3c - Предел: {limit_c}\")"
   ]
  },
  {
   "cell_type": "code",
   "execution_count": 6,
   "id": "56cd4c76",
   "metadata": {},
   "outputs": [
    {
     "name": "stdout",
     "output_type": "stream",
     "text": [
      "Задача 4 - Предел: 1/2\n"
     ]
    }
   ],
   "source": [
    "# Задача 4\n",
    "expr_d = sp.sqrt(n**2 + n) - n\n",
    "limit_d = sp.limit(expr_d, n, sp.oo)\n",
    "print(f\"Задача 4 - Предел: {limit_d}\")"
   ]
  },
  {
   "cell_type": "code",
   "execution_count": 7,
   "id": "a99d5830",
   "metadata": {},
   "outputs": [
    {
     "name": "stdout",
     "output_type": "stream",
     "text": [
      "Задача 5 - Предел: 0\n"
     ]
    }
   ],
   "source": [
    "# Задача 5\n",
    "expr_e = (sp.sqrt(n) * sp.cos(n)) / (n + 1)\n",
    "limit_e = sp.limit(expr_e, n, sp.oo)\n",
    "print(f\"Задача 5 - Предел: {limit_e}\")"
   ]
  },
  {
   "cell_type": "code",
   "execution_count": null,
   "id": "ff59c2a1",
   "metadata": {},
   "outputs": [],
   "source": []
  }
 ],
 "metadata": {
  "kernelspec": {
   "display_name": "Python 3 (ipykernel)",
   "language": "python",
   "name": "python3"
  },
  "language_info": {
   "codemirror_mode": {
    "name": "ipython",
    "version": 3
   },
   "file_extension": ".py",
   "mimetype": "text/x-python",
   "name": "python",
   "nbconvert_exporter": "python",
   "pygments_lexer": "ipython3",
   "version": "3.9.13"
  }
 },
 "nbformat": 4,
 "nbformat_minor": 5
}
