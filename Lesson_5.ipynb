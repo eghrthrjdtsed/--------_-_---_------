{
 "cells": [
  {
   "cell_type": "markdown",
   "id": "968fb9c2",
   "metadata": {},
   "source": [
    "1. Найти пределы"
   ]
  },
  {
   "cell_type": "code",
   "execution_count": 2,
   "id": "d6e63584",
   "metadata": {},
   "outputs": [
    {
     "data": {
      "text/latex": [
       "$\\displaystyle \\infty$"
      ],
      "text/plain": [
       "oo"
      ]
     },
     "execution_count": 2,
     "metadata": {},
     "output_type": "execute_result"
    }
   ],
   "source": [
    "import sympy as sp\n",
    "\n",
    "#1.\n",
    "x = sp.symbols('x')\n",
    "limit1 = sp.limit(sp.ln(x + 3) - sp.ln(x), x, 0)\n",
    "limit1\n"
   ]
  },
  {
   "cell_type": "code",
   "execution_count": 3,
   "id": "ab8e4ce1",
   "metadata": {},
   "outputs": [
    {
     "data": {
      "text/latex": [
       "$\\displaystyle 1$"
      ],
      "text/plain": [
       "1"
      ]
     },
     "execution_count": 3,
     "metadata": {},
     "output_type": "execute_result"
    }
   ],
   "source": [
    "#2.\n",
    "limit2 = sp.limit(sp.ln(1 + x) / x, x, 0, dir='+')\n",
    "limit2\n"
   ]
  },
  {
   "cell_type": "code",
   "execution_count": 4,
   "id": "36bed222",
   "metadata": {},
   "outputs": [
    {
     "data": {
      "text/latex": [
       "$\\displaystyle \\infty$"
      ],
      "text/plain": [
       "oo"
      ]
     },
     "execution_count": 4,
     "metadata": {},
     "output_type": "execute_result"
    }
   ],
   "source": [
    "#3.\n",
    "limit3 = sp.limit(x / (x - 2), x, 2)\n",
    "limit3\n"
   ]
  },
  {
   "cell_type": "code",
   "execution_count": 5,
   "id": "27720169",
   "metadata": {},
   "outputs": [
    {
     "data": {
      "text/latex": [
       "$\\displaystyle -\\infty$"
      ],
      "text/plain": [
       "-oo"
      ]
     },
     "execution_count": 5,
     "metadata": {},
     "output_type": "execute_result"
    }
   ],
   "source": [
    "#4.\n",
    "limit4 = sp.limit((sp.tan(x) - 1) / (x - sp.pi/2), x, sp.pi/2)\n",
    "limit4\n"
   ]
  },
  {
   "cell_type": "code",
   "execution_count": 6,
   "id": "7636ce9e",
   "metadata": {},
   "outputs": [
    {
     "data": {
      "text/latex": [
       "$\\displaystyle -1$"
      ],
      "text/plain": [
       "-1"
      ]
     },
     "execution_count": 6,
     "metadata": {},
     "output_type": "execute_result"
    }
   ],
   "source": [
    "#5.\n",
    "limit5 = sp.limit(x**2 * (1/(x+1) - 1/x), x, sp.oo)\n",
    "limit5\n"
   ]
  },
  {
   "cell_type": "code",
   "execution_count": 7,
   "id": "ca99eaf8",
   "metadata": {},
   "outputs": [
    {
     "data": {
      "text/latex": [
       "$\\displaystyle 0$"
      ],
      "text/plain": [
       "0"
      ]
     },
     "execution_count": 7,
     "metadata": {},
     "output_type": "execute_result"
    }
   ],
   "source": [
    "#6.\n",
    "limit6 = sp.limit(sp.exp(2*x) / (sp.exp(3*x) - sp.exp(x)), x, sp.oo)\n",
    "limit6\n"
   ]
  },
  {
   "cell_type": "code",
   "execution_count": 8,
   "id": "913285d6",
   "metadata": {},
   "outputs": [
    {
     "data": {
      "text/latex": [
       "$\\displaystyle \\frac{1}{3}$"
      ],
      "text/plain": [
       "1/3"
      ]
     },
     "execution_count": 8,
     "metadata": {},
     "output_type": "execute_result"
    }
   ],
   "source": [
    "#7.\n",
    "limit7 = sp.limit(sp.sin(x) / (3*x), x, 0)\n",
    "limit7\n"
   ]
  },
  {
   "cell_type": "code",
   "execution_count": 9,
   "id": "18058ba9",
   "metadata": {},
   "outputs": [
    {
     "data": {
      "text/latex": [
       "$\\displaystyle \\frac{3}{2}$"
      ],
      "text/plain": [
       "3/2"
      ]
     },
     "execution_count": 9,
     "metadata": {},
     "output_type": "execute_result"
    }
   ],
   "source": [
    "#8.\n",
    "limit8 = sp.limit((1 + x**2 - sp.cos(x)) / x**2, x, 0)\n",
    "limit8\n"
   ]
  },
  {
   "cell_type": "code",
   "execution_count": 10,
   "id": "39b56cb0",
   "metadata": {},
   "outputs": [
    {
     "data": {
      "text/latex": [
       "$\\displaystyle 2$"
      ],
      "text/plain": [
       "2"
      ]
     },
     "execution_count": 10,
     "metadata": {},
     "output_type": "execute_result"
    }
   ],
   "source": [
    "#9.\n",
    "limit9 = sp.limit(sp.sin(2*x) / x, x, 0)\n",
    "limit9\n"
   ]
  },
  {
   "cell_type": "code",
   "execution_count": 11,
   "id": "02743dc3",
   "metadata": {},
   "outputs": [
    {
     "data": {
      "text/latex": [
       "$\\displaystyle \\frac{\\sqrt{2}}{4}$"
      ],
      "text/plain": [
       "sqrt(2)/4"
      ]
     },
     "execution_count": 11,
     "metadata": {},
     "output_type": "execute_result"
    }
   ],
   "source": [
    "#10.\n",
    "limit10 = sp.limit((sp.sqrt(x + 1) - sp.sqrt(2)) / (x - 1), x, 1)\n",
    "limit10\n"
   ]
  },
  {
   "cell_type": "markdown",
   "id": "08388571",
   "metadata": {},
   "source": [
    "2. Установить характер разрыва функции в точке \n",
    "𝑥\n",
    "0\n",
    "​\n",
    ":\n"
   ]
  },
  {
   "cell_type": "code",
   "execution_count": 12,
   "id": "3862edfd",
   "metadata": {},
   "outputs": [
    {
     "data": {
      "text/plain": [
       "(oo, -oo)"
      ]
     },
     "execution_count": 12,
     "metadata": {},
     "output_type": "execute_result"
    }
   ],
   "source": [
    "#1.\n",
    "f = (4 - x**2) / (4 - x)\n",
    "discontinuity1 = sp.limit(f, x, 4, dir='+'), sp.limit(f, x, 4, dir='-')\n",
    "discontinuity1\n"
   ]
  },
  {
   "cell_type": "code",
   "execution_count": 13,
   "id": "b4e2f8a4",
   "metadata": {},
   "outputs": [
    {
     "data": {
      "text/plain": [
       "(oo, -oo)"
      ]
     },
     "execution_count": 13,
     "metadata": {},
     "output_type": "execute_result"
    }
   ],
   "source": [
    "#2.\n",
    "f = 1 / x\n",
    "discontinuity2 = sp.limit(f, x, 0, dir='+'), sp.limit(f, x, 0, dir='-')\n",
    "discontinuity2\n"
   ]
  },
  {
   "cell_type": "markdown",
   "id": "9653bed5",
   "metadata": {},
   "source": [
    "3. Исследовать на непрерывность функцию \n",
    "𝑓\n",
    "(\n",
    "𝑥\n",
    ")\n",
    "в точке \n",
    "𝑥\n",
    "0\n",
    "​\n",
    ":"
   ]
  },
  {
   "cell_type": "code",
   "execution_count": 17,
   "id": "bc4dacf1",
   "metadata": {},
   "outputs": [
    {
     "data": {
      "text/plain": [
       "(-pi/2, pi/2, AccumBounds(-pi/2, pi/2))"
      ]
     },
     "execution_count": 17,
     "metadata": {},
     "output_type": "execute_result"
    }
   ],
   "source": [
    "#1.\n",
    "f = sp.atan(2 / (x - 1))\n",
    "left_limit = sp.limit(f, x, 1, dir='-')\n",
    "right_limit = sp.limit(f, x, 1, dir='+')\n",
    "function_value = f.subs(x, 1)\n",
    "left_limit, right_limit, function_value\n"
   ]
  },
  {
   "cell_type": "code",
   "execution_count": 18,
   "id": "80847f35",
   "metadata": {},
   "outputs": [
    {
     "data": {
      "text/plain": [
       "(1/4, 1/4, 1/4)"
      ]
     },
     "execution_count": 18,
     "metadata": {},
     "output_type": "execute_result"
    }
   ],
   "source": [
    "#2.\n",
    "f = 1 / (x**2 - x - 2)\n",
    "left_limit = sp.limit(f, x, 3, dir='-')\n",
    "right_limit = sp.limit(f, x, 3, dir='+')\n",
    "function_value = f.subs(x, 3)\n",
    "\n",
    "left_limit, right_limit, function_value\n",
    "\n"
   ]
  },
  {
   "cell_type": "code",
   "execution_count": null,
   "id": "c200820a",
   "metadata": {},
   "outputs": [],
   "source": []
  }
 ],
 "metadata": {
  "kernelspec": {
   "display_name": "Python 3 (ipykernel)",
   "language": "python",
   "name": "python3"
  },
  "language_info": {
   "codemirror_mode": {
    "name": "ipython",
    "version": 3
   },
   "file_extension": ".py",
   "mimetype": "text/x-python",
   "name": "python",
   "nbconvert_exporter": "python",
   "pygments_lexer": "ipython3",
   "version": "3.9.13"
  }
 },
 "nbformat": 4,
 "nbformat_minor": 5
}
